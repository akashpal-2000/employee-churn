{
 "cells": [
  {
   "cell_type": "markdown",
   "id": "58b43d00",
   "metadata": {
    "id": "8c6752d2"
   },
   "source": [
    "#predict employee churn:\n",
    "#churn means quit service or not\n",
    "\n",
    "Problem statement:The problem statement for an employee churn prediction dataset in machine learning \n",
    "is to develop a predictive model that can accurately identify which employees are likely to leave \n",
    "a company based on their historical data, allowing HR departments to proactively take steps to retain\n",
    "valuable talent by identifying potential churn risks early on; essentially, using employee attributes\n",
    "like satisfaction level, performance evaluations, tenure, and workload to forecast whether an employee\n",
    "will voluntarily leave the organization in the near future.\n",
    "\n"
   ]
  },
  {
   "cell_type": "markdown",
   "id": "134cbdc7",
   "metadata": {},
   "source": [
    "objective:The objective of employee churn prediction is to identifyand analyze factors that contribute to employees leaving an organization, enabling businesses to proactively take measures to retain talent, improve employee satisfaction,and reduce turnover costs."
   ]
  },
  {
   "cell_type": "code",
   "execution_count": 4,
   "id": "7a711416",
   "metadata": {
    "id": "7a711416"
   },
   "outputs": [],
   "source": [
    "#Basic Library Import \n",
    "import matplotlib.pyplot as plt\n",
    "import seaborn as sb\n",
    "import pandas as pd\n",
    "import numpy as np\n",
    "import warnings\n",
    "warnings.filterwarnings(\"ignore\")"
   ]
  },
  {
   "cell_type": "code",
   "execution_count": 6,
   "id": "670ed8d5",
   "metadata": {
    "colab": {
     "base_uri": "https://localhost:8080/",
     "height": 206
    },
    "id": "670ed8d5",
    "outputId": "625a73e2-f1ae-41e9-efa6-e07c86f12014"
   },
   "outputs": [
    {
     "data": {
      "text/html": [
       "<div>\n",
       "<style scoped>\n",
       "    .dataframe tbody tr th:only-of-type {\n",
       "        vertical-align: middle;\n",
       "    }\n",
       "\n",
       "    .dataframe tbody tr th {\n",
       "        vertical-align: top;\n",
       "    }\n",
       "\n",
       "    .dataframe thead th {\n",
       "        text-align: right;\n",
       "    }\n",
       "</style>\n",
       "<table border=\"1\" class=\"dataframe\">\n",
       "  <thead>\n",
       "    <tr style=\"text-align: right;\">\n",
       "      <th></th>\n",
       "      <th>satisfaction_level</th>\n",
       "      <th>last_evaluation</th>\n",
       "      <th>number_project</th>\n",
       "      <th>average_montly_hours</th>\n",
       "      <th>time_spend_company</th>\n",
       "      <th>Work_accident</th>\n",
       "      <th>quit</th>\n",
       "      <th>promotion_last_5years</th>\n",
       "      <th>department</th>\n",
       "      <th>salary</th>\n",
       "    </tr>\n",
       "  </thead>\n",
       "  <tbody>\n",
       "    <tr>\n",
       "      <th>0</th>\n",
       "      <td>0.38</td>\n",
       "      <td>0.53</td>\n",
       "      <td>2</td>\n",
       "      <td>157</td>\n",
       "      <td>3</td>\n",
       "      <td>0</td>\n",
       "      <td>1</td>\n",
       "      <td>0.0</td>\n",
       "      <td>sales</td>\n",
       "      <td>low</td>\n",
       "    </tr>\n",
       "    <tr>\n",
       "      <th>1</th>\n",
       "      <td>0.80</td>\n",
       "      <td>0.86</td>\n",
       "      <td>5</td>\n",
       "      <td>262</td>\n",
       "      <td>6</td>\n",
       "      <td>0</td>\n",
       "      <td>1</td>\n",
       "      <td>0.0</td>\n",
       "      <td>sales</td>\n",
       "      <td>medium</td>\n",
       "    </tr>\n",
       "    <tr>\n",
       "      <th>2</th>\n",
       "      <td>0.11</td>\n",
       "      <td>0.88</td>\n",
       "      <td>7</td>\n",
       "      <td>272</td>\n",
       "      <td>4</td>\n",
       "      <td>0</td>\n",
       "      <td>1</td>\n",
       "      <td>0.0</td>\n",
       "      <td>sales</td>\n",
       "      <td>medium</td>\n",
       "    </tr>\n",
       "    <tr>\n",
       "      <th>3</th>\n",
       "      <td>0.72</td>\n",
       "      <td>0.87</td>\n",
       "      <td>5</td>\n",
       "      <td>223</td>\n",
       "      <td>5</td>\n",
       "      <td>0</td>\n",
       "      <td>1</td>\n",
       "      <td>0.0</td>\n",
       "      <td>sales</td>\n",
       "      <td>low</td>\n",
       "    </tr>\n",
       "    <tr>\n",
       "      <th>4</th>\n",
       "      <td>0.37</td>\n",
       "      <td>0.52</td>\n",
       "      <td>2</td>\n",
       "      <td>159</td>\n",
       "      <td>3</td>\n",
       "      <td>0</td>\n",
       "      <td>1</td>\n",
       "      <td>0.0</td>\n",
       "      <td>sales</td>\n",
       "      <td>low</td>\n",
       "    </tr>\n",
       "  </tbody>\n",
       "</table>\n",
       "</div>"
      ],
      "text/plain": [
       "   satisfaction_level  last_evaluation  number_project  average_montly_hours  \\\n",
       "0                0.38             0.53               2                   157   \n",
       "1                0.80             0.86               5                   262   \n",
       "2                0.11             0.88               7                   272   \n",
       "3                0.72             0.87               5                   223   \n",
       "4                0.37             0.52               2                   159   \n",
       "\n",
       "   time_spend_company  Work_accident  quit  promotion_last_5years department  \\\n",
       "0                   3              0     1                    0.0      sales   \n",
       "1                   6              0     1                    0.0      sales   \n",
       "2                   4              0     1                    0.0      sales   \n",
       "3                   5              0     1                    0.0      sales   \n",
       "4                   3              0     1                    0.0      sales   \n",
       "\n",
       "   salary  \n",
       "0     low  \n",
       "1  medium  \n",
       "2  medium  \n",
       "3     low  \n",
       "4     low  "
      ]
     },
     "execution_count": 6,
     "metadata": {},
     "output_type": "execute_result"
    }
   ],
   "source": [
    "#load dataset\n",
    "df=pd.read_csv(\"employee_data.csv\")\n",
    "#to show first five records from dataset\n",
    "df.head() "
   ]
  },
  {
   "cell_type": "markdown",
   "id": "da4b19a6",
   "metadata": {},
   "source": [
    " EDA (EXPLORATORY DATA ANALYSIS)"
   ]
  },
  {
   "cell_type": "code",
   "execution_count": 7,
   "id": "3fbb0c01",
   "metadata": {},
   "outputs": [
    {
     "data": {
      "text/plain": [
       "array(['sales', 'accounting', 'hr', 'technical', 'support', 'management',\n",
       "       'IT', 'product_mng', 'marketing', 'RandD', nan], dtype=object)"
      ]
     },
     "execution_count": 7,
     "metadata": {},
     "output_type": "execute_result"
    }
   ],
   "source": [
    "df['department'].unique()"
   ]
  },
  {
   "cell_type": "code",
   "execution_count": 8,
   "id": "4ada3561",
   "metadata": {
    "colab": {
     "base_uri": "https://localhost:8080/"
    },
    "id": "4ada3561",
    "outputId": "e865c866-b2bb-4470-c976-e08597d3558e"
   },
   "outputs": [
    {
     "data": {
      "text/plain": [
       "(11582, 10)"
      ]
     },
     "execution_count": 8,
     "metadata": {},
     "output_type": "execute_result"
    }
   ],
   "source": [
    "df.shape"
   ]
  },
  {
   "cell_type": "code",
   "execution_count": 9,
   "id": "ebdfc1ea",
   "metadata": {
    "colab": {
     "base_uri": "https://localhost:8080/"
    },
    "id": "ebdfc1ea",
    "outputId": "2be1ac48-52a3-416d-fbaf-b31f29e99990"
   },
   "outputs": [
    {
     "data": {
      "text/plain": [
       "array([1, 0], dtype=int64)"
      ]
     },
     "execution_count": 9,
     "metadata": {},
     "output_type": "execute_result"
    }
   ],
   "source": [
    "df[\"quit\"].unique()"
   ]
  },
  {
   "cell_type": "code",
   "execution_count": 10,
   "id": "64a1a832",
   "metadata": {
    "id": "64a1a832"
   },
   "outputs": [],
   "source": [
    "#output column have categorical data so we go for classification\n"
   ]
  },
  {
   "cell_type": "code",
   "execution_count": 11,
   "id": "9360ff99",
   "metadata": {
    "colab": {
     "base_uri": "https://localhost:8080/"
    },
    "id": "9360ff99",
    "outputId": "52d33929-e9d0-4a8f-970c-b64831593ead"
   },
   "outputs": [
    {
     "data": {
      "text/plain": [
       "satisfaction_level       0\n",
       "last_evaluation          0\n",
       "number_project           0\n",
       "average_montly_hours     0\n",
       "time_spend_company       0\n",
       "Work_accident            0\n",
       "quit                     0\n",
       "promotion_last_5years    1\n",
       "department               1\n",
       "salary                   1\n",
       "dtype: int64"
      ]
     },
     "execution_count": 11,
     "metadata": {},
     "output_type": "execute_result"
    }
   ],
   "source": [
    "#chcek the null values\n",
    "df.isnull().sum()"
   ]
  },
  {
   "cell_type": "code",
   "execution_count": 12,
   "id": "9636be90",
   "metadata": {
    "colab": {
     "base_uri": "https://localhost:8080/"
    },
    "id": "9636be90",
    "outputId": "63c9aabb-b938-4c36-a21e-8f972d91d13f"
   },
   "outputs": [
    {
     "data": {
      "text/plain": [
       "satisfaction_level       float64\n",
       "last_evaluation          float64\n",
       "number_project             int64\n",
       "average_montly_hours       int64\n",
       "time_spend_company         int64\n",
       "Work_accident              int64\n",
       "quit                       int64\n",
       "promotion_last_5years    float64\n",
       "department                object\n",
       "salary                    object\n",
       "dtype: object"
      ]
     },
     "execution_count": 12,
     "metadata": {},
     "output_type": "execute_result"
    }
   ],
   "source": [
    "df.dtypes"
   ]
  },
  {
   "cell_type": "code",
   "execution_count": 13,
   "id": "5fdb4bd0",
   "metadata": {
    "colab": {
     "base_uri": "https://localhost:8080/",
     "height": 300
    },
    "id": "5fdb4bd0",
    "outputId": "adc139d8-7933-4390-a995-7225d0524de8"
   },
   "outputs": [
    {
     "data": {
      "text/html": [
       "<div>\n",
       "<style scoped>\n",
       "    .dataframe tbody tr th:only-of-type {\n",
       "        vertical-align: middle;\n",
       "    }\n",
       "\n",
       "    .dataframe tbody tr th {\n",
       "        vertical-align: top;\n",
       "    }\n",
       "\n",
       "    .dataframe thead th {\n",
       "        text-align: right;\n",
       "    }\n",
       "</style>\n",
       "<table border=\"1\" class=\"dataframe\">\n",
       "  <thead>\n",
       "    <tr style=\"text-align: right;\">\n",
       "      <th></th>\n",
       "      <th>satisfaction_level</th>\n",
       "      <th>last_evaluation</th>\n",
       "      <th>number_project</th>\n",
       "      <th>average_montly_hours</th>\n",
       "      <th>time_spend_company</th>\n",
       "      <th>Work_accident</th>\n",
       "      <th>quit</th>\n",
       "      <th>promotion_last_5years</th>\n",
       "    </tr>\n",
       "  </thead>\n",
       "  <tbody>\n",
       "    <tr>\n",
       "      <th>count</th>\n",
       "      <td>11582.000000</td>\n",
       "      <td>11582.000000</td>\n",
       "      <td>11582.000000</td>\n",
       "      <td>11582.000000</td>\n",
       "      <td>11582.000000</td>\n",
       "      <td>11582.000000</td>\n",
       "      <td>11582.000000</td>\n",
       "      <td>11581.000000</td>\n",
       "    </tr>\n",
       "    <tr>\n",
       "      <th>mean</th>\n",
       "      <td>0.628308</td>\n",
       "      <td>0.716608</td>\n",
       "      <td>3.802884</td>\n",
       "      <td>200.523053</td>\n",
       "      <td>3.305215</td>\n",
       "      <td>0.152651</td>\n",
       "      <td>0.172682</td>\n",
       "      <td>0.013816</td>\n",
       "    </tr>\n",
       "    <tr>\n",
       "      <th>std</th>\n",
       "      <td>0.241985</td>\n",
       "      <td>0.168828</td>\n",
       "      <td>1.169843</td>\n",
       "      <td>48.839268</td>\n",
       "      <td>1.209369</td>\n",
       "      <td>0.359666</td>\n",
       "      <td>0.377988</td>\n",
       "      <td>0.116731</td>\n",
       "    </tr>\n",
       "    <tr>\n",
       "      <th>min</th>\n",
       "      <td>0.090000</td>\n",
       "      <td>0.360000</td>\n",
       "      <td>2.000000</td>\n",
       "      <td>96.000000</td>\n",
       "      <td>2.000000</td>\n",
       "      <td>0.000000</td>\n",
       "      <td>0.000000</td>\n",
       "      <td>0.000000</td>\n",
       "    </tr>\n",
       "    <tr>\n",
       "      <th>25%</th>\n",
       "      <td>0.480000</td>\n",
       "      <td>0.570000</td>\n",
       "      <td>3.000000</td>\n",
       "      <td>157.000000</td>\n",
       "      <td>3.000000</td>\n",
       "      <td>0.000000</td>\n",
       "      <td>0.000000</td>\n",
       "      <td>0.000000</td>\n",
       "    </tr>\n",
       "    <tr>\n",
       "      <th>50%</th>\n",
       "      <td>0.660000</td>\n",
       "      <td>0.720000</td>\n",
       "      <td>4.000000</td>\n",
       "      <td>200.000000</td>\n",
       "      <td>3.000000</td>\n",
       "      <td>0.000000</td>\n",
       "      <td>0.000000</td>\n",
       "      <td>0.000000</td>\n",
       "    </tr>\n",
       "    <tr>\n",
       "      <th>75%</th>\n",
       "      <td>0.820000</td>\n",
       "      <td>0.870000</td>\n",
       "      <td>5.000000</td>\n",
       "      <td>243.000000</td>\n",
       "      <td>4.000000</td>\n",
       "      <td>0.000000</td>\n",
       "      <td>0.000000</td>\n",
       "      <td>0.000000</td>\n",
       "    </tr>\n",
       "    <tr>\n",
       "      <th>max</th>\n",
       "      <td>1.000000</td>\n",
       "      <td>1.000000</td>\n",
       "      <td>7.000000</td>\n",
       "      <td>310.000000</td>\n",
       "      <td>10.000000</td>\n",
       "      <td>1.000000</td>\n",
       "      <td>1.000000</td>\n",
       "      <td>1.000000</td>\n",
       "    </tr>\n",
       "  </tbody>\n",
       "</table>\n",
       "</div>"
      ],
      "text/plain": [
       "       satisfaction_level  last_evaluation  number_project  \\\n",
       "count        11582.000000     11582.000000    11582.000000   \n",
       "mean             0.628308         0.716608        3.802884   \n",
       "std              0.241985         0.168828        1.169843   \n",
       "min              0.090000         0.360000        2.000000   \n",
       "25%              0.480000         0.570000        3.000000   \n",
       "50%              0.660000         0.720000        4.000000   \n",
       "75%              0.820000         0.870000        5.000000   \n",
       "max              1.000000         1.000000        7.000000   \n",
       "\n",
       "       average_montly_hours  time_spend_company  Work_accident          quit  \\\n",
       "count          11582.000000        11582.000000   11582.000000  11582.000000   \n",
       "mean             200.523053            3.305215       0.152651      0.172682   \n",
       "std               48.839268            1.209369       0.359666      0.377988   \n",
       "min               96.000000            2.000000       0.000000      0.000000   \n",
       "25%              157.000000            3.000000       0.000000      0.000000   \n",
       "50%              200.000000            3.000000       0.000000      0.000000   \n",
       "75%              243.000000            4.000000       0.000000      0.000000   \n",
       "max              310.000000           10.000000       1.000000      1.000000   \n",
       "\n",
       "       promotion_last_5years  \n",
       "count           11581.000000  \n",
       "mean                0.013816  \n",
       "std                 0.116731  \n",
       "min                 0.000000  \n",
       "25%                 0.000000  \n",
       "50%                 0.000000  \n",
       "75%                 0.000000  \n",
       "max                 1.000000  "
      ]
     },
     "execution_count": 13,
     "metadata": {},
     "output_type": "execute_result"
    }
   ],
   "source": [
    "df.describe()"
   ]
  },
  {
   "cell_type": "code",
   "execution_count": 14,
   "id": "6e5e1a1e",
   "metadata": {
    "colab": {
     "base_uri": "https://localhost:8080/"
    },
    "id": "6e5e1a1e",
    "outputId": "555c3685-e687-4608-fe20-3a778b4f11e5"
   },
   "outputs": [
    {
     "data": {
      "text/plain": [
       "satisfaction_level       0\n",
       "last_evaluation          0\n",
       "number_project           0\n",
       "average_montly_hours     0\n",
       "time_spend_company       0\n",
       "Work_accident            0\n",
       "quit                     0\n",
       "promotion_last_5years    0\n",
       "department               1\n",
       "salary                   1\n",
       "dtype: int64"
      ]
     },
     "execution_count": 14,
     "metadata": {},
     "output_type": "execute_result"
    }
   ],
   "source": [
    "#fillling null values on columns\n",
    "a=df[\"promotion_last_5years\"].median()\n",
    "a\n",
    "df[\"promotion_last_5years\"].fillna(a,inplace=True)\n",
    "#chcek the null values again\n",
    "df.isnull().sum()"
   ]
  },
  {
   "cell_type": "code",
   "execution_count": 15,
   "id": "b8fdb690",
   "metadata": {
    "colab": {
     "base_uri": "https://localhost:8080/"
    },
    "id": "b8fdb690",
    "outputId": "5df3b297-ca28-42ad-b51b-a230946f2479"
   },
   "outputs": [
    {
     "data": {
      "text/plain": [
       "department\n",
       "sales          3092\n",
       "technical      2227\n",
       "support        1790\n",
       "IT              935\n",
       "RandD           689\n",
       "product_mng     638\n",
       "marketing       633\n",
       "accounting      611\n",
       "hr              601\n",
       "management      365\n",
       "Name: count, dtype: int64"
      ]
     },
     "execution_count": 15,
     "metadata": {},
     "output_type": "execute_result"
    }
   ],
   "source": [
    "#checking frequency to null values in object type data\n",
    "df[\"department\"].value_counts()\n"
   ]
  },
  {
   "cell_type": "code",
   "execution_count": 16,
   "id": "3b7006e4",
   "metadata": {},
   "outputs": [
    {
     "data": {
      "text/plain": [
       "satisfaction_level       0\n",
       "last_evaluation          0\n",
       "number_project           0\n",
       "average_montly_hours     0\n",
       "time_spend_company       0\n",
       "Work_accident            0\n",
       "quit                     0\n",
       "promotion_last_5years    0\n",
       "department               0\n",
       "salary                   1\n",
       "dtype: int64"
      ]
     },
     "execution_count": 16,
     "metadata": {},
     "output_type": "execute_result"
    }
   ],
   "source": [
    "df[\"department\"].fillna(\"sales\",inplace=True)\n",
    "#chcek the null values again\n",
    "df.isnull().sum()"
   ]
  },
  {
   "cell_type": "code",
   "execution_count": 17,
   "id": "57fd7c32",
   "metadata": {
    "colab": {
     "base_uri": "https://localhost:8080/"
    },
    "id": "57fd7c32",
    "outputId": "c88f7bae-1f1d-4be0-b348-43909da20868"
   },
   "outputs": [
    {
     "data": {
      "text/plain": [
       "satisfaction_level       0\n",
       "last_evaluation          0\n",
       "number_project           0\n",
       "average_montly_hours     0\n",
       "time_spend_company       0\n",
       "Work_accident            0\n",
       "quit                     0\n",
       "promotion_last_5years    0\n",
       "department               0\n",
       "salary                   0\n",
       "dtype: int64"
      ]
     },
     "execution_count": 17,
     "metadata": {},
     "output_type": "execute_result"
    }
   ],
   "source": [
    "#checking frequency to null values in object type data\n",
    "df[\"salary\"].value_counts()\n",
    "df[\"salary\"].fillna(\"low\",inplace=True)\n",
    "#chcek the null values again\n",
    "df.isnull().sum()"
   ]
  },
  {
   "cell_type": "code",
   "execution_count": 18,
   "id": "f3abf72e",
   "metadata": {
    "colab": {
     "base_uri": "https://localhost:8080/",
     "height": 374
    },
    "id": "f3abf72e",
    "outputId": "571f3b31-7962-4761-a61f-d14189336b9a"
   },
   "outputs": [
    {
     "data": {
      "image/png": "[encoded data removed]",
      "text/plain": [
       "<Figure size 640x480 with 2 Axes>"
      ]
     },
     "metadata": {},
     "output_type": "display_data"
    }
   ],
   "source": [
    "#visualize the null values \n",
    "sb.heatmap(df.isnull())\n",
    "plt.show()"
   ]
  },
  {
   "cell_type": "code",
   "execution_count": 19,
   "id": "a6b9cec9",
   "metadata": {
    "colab": {
     "base_uri": "https://localhost:8080/"
    },
    "id": "a6b9cec9",
    "outputId": "1707ef16-4e32-4762-dbf2-31dc720ecd71"
   },
   "outputs": [
    {
     "data": {
      "text/plain": [
       "9"
      ]
     },
     "execution_count": 19,
     "metadata": {},
     "output_type": "execute_result"
    }
   ],
   "source": [
    "#chcek duplicate values\n",
    "df.duplicated().sum()"
   ]
  },
  {
   "cell_type": "code",
   "execution_count": 20,
   "id": "9a645d42",
   "metadata": {
    "id": "9a645d42"
   },
   "outputs": [],
   "source": [
    "#drop the duplicated values\n",
    "df.drop_duplicates(inplace=True)"
   ]
  },
  {
   "cell_type": "code",
   "execution_count": 21,
   "id": "cd4b8d8b",
   "metadata": {
    "colab": {
     "base_uri": "https://localhost:8080/"
    },
    "id": "cd4b8d8b",
    "outputId": "50925566-6613-4a0d-b941-8c2acfea6db8"
   },
   "outputs": [
    {
     "data": {
      "text/plain": [
       "0"
      ]
     },
     "execution_count": 21,
     "metadata": {},
     "output_type": "execute_result"
    }
   ],
   "source": [
    "#chcek duplicate values again\n",
    "df.duplicated().sum()"
   ]
  },
  {
   "cell_type": "code",
   "execution_count": 22,
   "id": "25ebb195",
   "metadata": {
    "colab": {
     "base_uri": "https://localhost:8080/"
    },
    "id": "25ebb195",
    "outputId": "1835aa64-6efc-4c67-e41f-712378fce8f5"
   },
   "outputs": [
    {
     "data": {
      "text/plain": [
       "quit\n",
       "0    9582\n",
       "1    1991\n",
       "Name: count, dtype: int64"
      ]
     },
     "execution_count": 22,
     "metadata": {},
     "output_type": "execute_result"
    }
   ],
   "source": [
    "#chcek if data is balanced or not\n",
    "df[\"quit\"].value_counts()"
   ]
  },
  {
   "cell_type": "code",
   "execution_count": 23,
   "id": "f435cc58",
   "metadata": {
    "colab": {
     "base_uri": "https://localhost:8080/",
     "height": 279
    },
    "id": "f435cc58",
    "outputId": "7310c727-b647-403a-875b-f5d0938ee6d5"
   },
   "outputs": [
    {
     "data": {
      "image/png": "[encoded data removed]",
      "text/plain": [
       "<Figure size 640x480 with 1 Axes>"
      ]
     },
     "metadata": {},
     "output_type": "display_data"
    }
   ],
   "source": [
    "sb.countplot(data=df,x=\"quit\")\n",
    "f=df[\"quit\"].value_counts()\n",
    "plt.yticks(f)\n",
    "plt.show()"
   ]
  },
  {
   "cell_type": "code",
   "execution_count": 24,
   "id": "9b9770ca-3e63-4e70-837d-5fb187623dd7",
   "metadata": {},
   "outputs": [
    {
     "name": "stdout",
     "output_type": "stream",
     "text": [
      "department\n",
      "sales          3087\n",
      "technical      2227\n",
      "support        1790\n",
      "IT              934\n",
      "RandD           688\n",
      "product_mng     638\n",
      "marketing       633\n",
      "accounting      610\n",
      "hr              601\n",
      "management      365\n",
      "Name: count, dtype: int64\n"
     ]
    },
    {
     "data": {
      "image/png": "[encoded data removed]",
      "text/plain": [
       "<Figure size 1500x1500 with 1 Axes>"
      ]
     },
     "metadata": {},
     "output_type": "display_data"
    }
   ],
   "source": [
    "plt.figure(figsize=(15,15))\n",
    "d=df['department'].value_counts()\n",
    "print(d)\n",
    "#visualise\n",
    "sb.countplot(data=df,x=\"department\")\n",
    "plt.yticks(d)\n",
    "plt.show()"
   ]
  },
  {
   "cell_type": "code",
   "execution_count": 196,
   "id": "6ad4fdc9-9c59-45e8-a63b-5d65162d37cf",
   "metadata": {},
   "outputs": [
    {
     "data": {
      "image/png": "[encoded data removed]",
      "text/plain": [
       "<Figure size 1500x1000 with 1 Axes>"
      ]
     },
     "metadata": {},
     "output_type": "display_data"
    }
   ],
   "source": [
    "plt.figure(figsize=(15,10))\n",
    "sb.countplot(data=df,x=\"quit\",hue=\"department\")\n",
    "plt.yticks(d)\n",
    "plt.show()\n",
    "#not quit : 0\n",
    "#quit : 1"
   ]
  },
  {
   "cell_type": "code",
   "execution_count": 26,
   "id": "7b27df34-9bb0-45d8-91b7-5de6694031e5",
   "metadata": {},
   "outputs": [
    {
     "name": "stdout",
     "output_type": "stream",
     "text": [
      "salary\n",
      "low       5576\n",
      "medium    5096\n",
      "high       901\n",
      "Name: count, dtype: int64\n"
     ]
    },
    {
     "data": {
      "image/png": "[encoded data removed]",
      "text/plain": [
       "<Figure size 640x480 with 1 Axes>"
      ]
     },
     "metadata": {},
     "output_type": "display_data"
    }
   ],
   "source": [
    "f=df['salary'].value_counts()\n",
    "print(f)\n",
    "#visualise\n",
    "sb.countplot(data=df,x=\"salary\")\n",
    "plt.yticks(f)\n",
    "plt.show()"
   ]
  },
  {
   "cell_type": "code",
   "execution_count": 27,
   "id": "7f3a38ce-a5f7-4ff7-b3a9-5bb132ecb2ac",
   "metadata": {},
   "outputs": [
    {
     "data": {
      "image/png": "[encoded data removed]",
      "text/plain": [
       "<Figure size 640x480 with 1 Axes>"
      ]
     },
     "metadata": {},
     "output_type": "display_data"
    }
   ],
   "source": [
    "\n",
    "#visualise\n",
    "sb.countplot(data=df,x=\"quit\",hue=\"salary\")\n",
    "plt.yticks(f)\n",
    "plt.show()\n",
    "#not quit : 0\n",
    "#quit : 1"
   ]
  },
  {
   "cell_type": "code",
   "execution_count": 28,
   "id": "7cb85872-47b9-4140-a0b8-1372bd896740",
   "metadata": {},
   "outputs": [
    {
     "name": "stdout",
     "output_type": "stream",
     "text": [
      "Work_accident\n",
      "0    9805\n",
      "1    1768\n",
      "Name: count, dtype: int64\n"
     ]
    },
    {
     "data": {
      "image/png": "[encoded data removed]",
      "text/plain": [
       "<Figure size 640x480 with 1 Axes>"
      ]
     },
     "metadata": {},
     "output_type": "display_data"
    }
   ],
   "source": [
    "w=df['Work_accident'].value_counts()\n",
    "print(w)\n",
    "#visualise\n",
    "sb.countplot(data=df,x=\"Work_accident\")\n",
    "plt.yticks(w)\n",
    "plt.show()"
   ]
  },
  {
   "cell_type": "code",
   "execution_count": 29,
   "id": "59c17d9f-4031-492f-af81-c46b92341943",
   "metadata": {},
   "outputs": [
    {
     "data": {
      "image/png": "[encoded data removed]",
      "text/plain": [
       "<Figure size 640x480 with 1 Axes>"
      ]
     },
     "metadata": {},
     "output_type": "display_data"
    }
   ],
   "source": [
    "#visualise\n",
    "sb.countplot(data=df,x=\"quit\",hue=\"Work_accident\")\n",
    "plt.yticks(w)\n",
    "plt.show()\n",
    "#not quit : 0\n",
    "#quit : 1"
   ]
  },
  {
   "cell_type": "code",
   "execution_count": 30,
   "id": "045389ac-cb4c-43d6-bc1b-7982d2f51da6",
   "metadata": {},
   "outputs": [
    {
     "data": {
      "image/png": "[encoded data removed]",
      "text/plain": [
       "<Figure size 640x480 with 1 Axes>"
      ]
     },
     "metadata": {},
     "output_type": "display_data"
    }
   ],
   "source": [
    "# Making a histplot for 'average_montly_hours' column\n",
    "\n",
    "sb.histplot(df['average_montly_hours'],bins=10)\n",
    "plt.show()"
   ]
  },
  {
   "cell_type": "code",
   "execution_count": 31,
   "id": "56de0f09",
   "metadata": {
    "colab": {
     "base_uri": "https://localhost:8080/"
    },
    "id": "56de0f09",
    "outputId": "145fb7d7-8618-45c9-e956-66284ef7dc1a"
   },
   "outputs": [
    {
     "data": {
      "text/plain": [
       "satisfaction_level       float64\n",
       "last_evaluation          float64\n",
       "number_project             int64\n",
       "average_montly_hours       int64\n",
       "time_spend_company         int64\n",
       "Work_accident              int64\n",
       "quit                       int64\n",
       "promotion_last_5years    float64\n",
       "department                object\n",
       "salary                    object\n",
       "dtype: object"
      ]
     },
     "execution_count": 31,
     "metadata": {},
     "output_type": "execute_result"
    }
   ],
   "source": [
    "df.dtypes"
   ]
  },
  {
   "cell_type": "code",
   "execution_count": 32,
   "id": "6942fb4e",
   "metadata": {
    "colab": {
     "base_uri": "https://localhost:8080/",
     "height": 206
    },
    "id": "6942fb4e",
    "outputId": "66378dc7-0191-4b3e-8d76-c777a4b37c0a"
   },
   "outputs": [
    {
     "data": {
      "text/plain": [
       "satisfaction_level       float64\n",
       "last_evaluation          float64\n",
       "number_project             int64\n",
       "average_montly_hours       int64\n",
       "time_spend_company         int64\n",
       "Work_accident              int64\n",
       "quit                       int64\n",
       "promotion_last_5years    float64\n",
       "dtype: object"
      ]
     },
     "execution_count": 32,
     "metadata": {},
     "output_type": "execute_result"
    }
   ],
   "source": [
    "#data is unbalanced \n",
    "#splitting the data \n",
    "df_cat=df.select_dtypes(object)\n",
    "df_num=df.select_dtypes([\"int64\",\"float64\"])\n",
    "df_num.dtypes"
   ]
  },
  {
   "cell_type": "code",
   "execution_count": 33,
   "id": "30302354",
   "metadata": {},
   "outputs": [
    {
     "data": {
      "text/plain": [
       "department    object\n",
       "salary        object\n",
       "dtype: object"
      ]
     },
     "execution_count": 33,
     "metadata": {},
     "output_type": "execute_result"
    }
   ],
   "source": [
    "df_cat.dtypes"
   ]
  },
  {
   "cell_type": "code",
   "execution_count": 34,
   "id": "309727ff",
   "metadata": {
    "id": "309727ff"
   },
   "outputs": [],
   "source": [
    "#apply LabelEncoder on df_cat\n",
    "from sklearn.preprocessing import LabelEncoder\n",
    "columns=df_cat.columns\n",
    "for col in columns:\n",
    "    #create object\n",
    "    le=LabelEncoder()\n",
    "    df_cat[col]=le.fit_transform(df_cat[col])\n"
   ]
  },
  {
   "cell_type": "code",
   "execution_count": 35,
   "id": "cb61d5d5",
   "metadata": {
    "colab": {
     "base_uri": "https://localhost:8080/",
     "height": 206
    },
    "id": "cb61d5d5",
    "outputId": "f557c13d-d9fe-44db-cbbd-4ee86e0ca6bb"
   },
   "outputs": [
    {
     "data": {
      "text/html": [
       "<div>\n",
       "<style scoped>\n",
       "    .dataframe tbody tr th:only-of-type {\n",
       "        vertical-align: middle;\n",
       "    }\n",
       "\n",
       "    .dataframe tbody tr th {\n",
       "        vertical-align: top;\n",
       "    }\n",
       "\n",
       "    .dataframe thead th {\n",
       "        text-align: right;\n",
       "    }\n",
       "</style>\n",
       "<table border=\"1\" class=\"dataframe\">\n",
       "  <thead>\n",
       "    <tr style=\"text-align: right;\">\n",
       "      <th></th>\n",
       "      <th>department</th>\n",
       "      <th>salary</th>\n",
       "    </tr>\n",
       "  </thead>\n",
       "  <tbody>\n",
       "    <tr>\n",
       "      <th>0</th>\n",
       "      <td>7</td>\n",
       "      <td>1</td>\n",
       "    </tr>\n",
       "    <tr>\n",
       "      <th>1</th>\n",
       "      <td>7</td>\n",
       "      <td>2</td>\n",
       "    </tr>\n",
       "    <tr>\n",
       "      <th>2</th>\n",
       "      <td>7</td>\n",
       "      <td>2</td>\n",
       "    </tr>\n",
       "    <tr>\n",
       "      <th>3</th>\n",
       "      <td>7</td>\n",
       "      <td>1</td>\n",
       "    </tr>\n",
       "    <tr>\n",
       "      <th>4</th>\n",
       "      <td>7</td>\n",
       "      <td>1</td>\n",
       "    </tr>\n",
       "  </tbody>\n",
       "</table>\n",
       "</div>"
      ],
      "text/plain": [
       "   department  salary\n",
       "0           7       1\n",
       "1           7       2\n",
       "2           7       2\n",
       "3           7       1\n",
       "4           7       1"
      ]
     },
     "execution_count": 35,
     "metadata": {},
     "output_type": "execute_result"
    }
   ],
   "source": [
    "df_cat.head()"
   ]
  },
  {
   "cell_type": "code",
   "execution_count": 36,
   "id": "44d6bdf6",
   "metadata": {
    "colab": {
     "base_uri": "https://localhost:8080/",
     "height": 206
    },
    "id": "44d6bdf6",
    "outputId": "856d6937-af2f-42c7-c16d-38905646e0c7"
   },
   "outputs": [
    {
     "data": {
      "text/html": [
       "<div>\n",
       "<style scoped>\n",
       "    .dataframe tbody tr th:only-of-type {\n",
       "        vertical-align: middle;\n",
       "    }\n",
       "\n",
       "    .dataframe tbody tr th {\n",
       "        vertical-align: top;\n",
       "    }\n",
       "\n",
       "    .dataframe thead th {\n",
       "        text-align: right;\n",
       "    }\n",
       "</style>\n",
       "<table border=\"1\" class=\"dataframe\">\n",
       "  <thead>\n",
       "    <tr style=\"text-align: right;\">\n",
       "      <th></th>\n",
       "      <th>satisfaction_level</th>\n",
       "      <th>last_evaluation</th>\n",
       "      <th>number_project</th>\n",
       "      <th>average_montly_hours</th>\n",
       "      <th>time_spend_company</th>\n",
       "      <th>Work_accident</th>\n",
       "      <th>quit</th>\n",
       "      <th>promotion_last_5years</th>\n",
       "      <th>department</th>\n",
       "      <th>salary</th>\n",
       "    </tr>\n",
       "  </thead>\n",
       "  <tbody>\n",
       "    <tr>\n",
       "      <th>0</th>\n",
       "      <td>0.38</td>\n",
       "      <td>0.53</td>\n",
       "      <td>2</td>\n",
       "      <td>157</td>\n",
       "      <td>3</td>\n",
       "      <td>0</td>\n",
       "      <td>1</td>\n",
       "      <td>0.0</td>\n",
       "      <td>7</td>\n",
       "      <td>1</td>\n",
       "    </tr>\n",
       "    <tr>\n",
       "      <th>1</th>\n",
       "      <td>0.80</td>\n",
       "      <td>0.86</td>\n",
       "      <td>5</td>\n",
       "      <td>262</td>\n",
       "      <td>6</td>\n",
       "      <td>0</td>\n",
       "      <td>1</td>\n",
       "      <td>0.0</td>\n",
       "      <td>7</td>\n",
       "      <td>2</td>\n",
       "    </tr>\n",
       "    <tr>\n",
       "      <th>2</th>\n",
       "      <td>0.11</td>\n",
       "      <td>0.88</td>\n",
       "      <td>7</td>\n",
       "      <td>272</td>\n",
       "      <td>4</td>\n",
       "      <td>0</td>\n",
       "      <td>1</td>\n",
       "      <td>0.0</td>\n",
       "      <td>7</td>\n",
       "      <td>2</td>\n",
       "    </tr>\n",
       "    <tr>\n",
       "      <th>3</th>\n",
       "      <td>0.72</td>\n",
       "      <td>0.87</td>\n",
       "      <td>5</td>\n",
       "      <td>223</td>\n",
       "      <td>5</td>\n",
       "      <td>0</td>\n",
       "      <td>1</td>\n",
       "      <td>0.0</td>\n",
       "      <td>7</td>\n",
       "      <td>1</td>\n",
       "    </tr>\n",
       "    <tr>\n",
       "      <th>4</th>\n",
       "      <td>0.37</td>\n",
       "      <td>0.52</td>\n",
       "      <td>2</td>\n",
       "      <td>159</td>\n",
       "      <td>3</td>\n",
       "      <td>0</td>\n",
       "      <td>1</td>\n",
       "      <td>0.0</td>\n",
       "      <td>7</td>\n",
       "      <td>1</td>\n",
       "    </tr>\n",
       "  </tbody>\n",
       "</table>\n",
       "</div>"
      ],
      "text/plain": [
       "   satisfaction_level  last_evaluation  number_project  average_montly_hours  \\\n",
       "0                0.38             0.53               2                   157   \n",
       "1                0.80             0.86               5                   262   \n",
       "2                0.11             0.88               7                   272   \n",
       "3                0.72             0.87               5                   223   \n",
       "4                0.37             0.52               2                   159   \n",
       "\n",
       "   time_spend_company  Work_accident  quit  promotion_last_5years  department  \\\n",
       "0                   3              0     1                    0.0           7   \n",
       "1                   6              0     1                    0.0           7   \n",
       "2                   4              0     1                    0.0           7   \n",
       "3                   5              0     1                    0.0           7   \n",
       "4                   3              0     1                    0.0           7   \n",
       "\n",
       "   salary  \n",
       "0       1  \n",
       "1       2  \n",
       "2       2  \n",
       "3       1  \n",
       "4       1  "
      ]
     },
     "execution_count": 36,
     "metadata": {},
     "output_type": "execute_result"
    }
   ],
   "source": [
    "#concatenate df_cat and df_num\n",
    "df_new=pd.concat([df_num,df_cat],axis=1)\n",
    "df_new.head()"
   ]
  },
  {
   "cell_type": "code",
   "execution_count": 37,
   "id": "48d2ddc1",
   "metadata": {},
   "outputs": [
    {
     "data": {
      "text/plain": [
       "satisfaction_level       float64\n",
       "last_evaluation          float64\n",
       "number_project             int64\n",
       "average_montly_hours       int64\n",
       "time_spend_company         int64\n",
       "Work_accident              int64\n",
       "quit                       int64\n",
       "promotion_last_5years    float64\n",
       "department                 int32\n",
       "salary                     int32\n",
       "dtype: object"
      ]
     },
     "execution_count": 37,
     "metadata": {},
     "output_type": "execute_result"
    }
   ],
   "source": [
    "df_new.dtypes"
   ]
  },
  {
   "cell_type": "code",
   "execution_count": 38,
   "id": "b0a93b5c",
   "metadata": {
    "id": "b0a93b5c"
   },
   "outputs": [],
   "source": [
    "#splitting input and output\n",
    "x=df_new.drop(\"quit\",axis=1)\n",
    "y=df_new[\"quit\"]"
   ]
  },
  {
   "cell_type": "code",
   "execution_count": 39,
   "id": "816c586d",
   "metadata": {},
   "outputs": [
    {
     "data": {
      "text/plain": [
       "Index(['satisfaction_level', 'last_evaluation', 'number_project',\n",
       "       'average_montly_hours', 'time_spend_company', 'Work_accident',\n",
       "       'promotion_last_5years', 'department', 'salary'],\n",
       "      dtype='object')"
      ]
     },
     "execution_count": 39,
     "metadata": {},
     "output_type": "execute_result"
    }
   ],
   "source": [
    "x.columns"
   ]
  },
  {
   "cell_type": "code",
   "execution_count": 40,
   "id": "a59e1513",
   "metadata": {
    "id": "a59e1513"
   },
   "outputs": [],
   "source": [
    "#train test split\n",
    "from sklearn.model_selection import train_test_split\n",
    "x_train,x_test,y_train,y_test=train_test_split(x,y,test_size=0.3,random_state=1)"
   ]
  },
  {
   "cell_type": "code",
   "execution_count": 41,
   "id": "69135e5f",
   "metadata": {},
   "outputs": [
    {
     "data": {
      "text/plain": [
       "1"
      ]
     },
     "execution_count": 41,
     "metadata": {},
     "output_type": "execute_result"
    }
   ],
   "source": [
    "y_train.ndim"
   ]
  },
  {
   "cell_type": "code",
   "execution_count": 42,
   "id": "753e5f76",
   "metadata": {
    "colab": {
     "base_uri": "https://localhost:8080/"
    },
    "id": "753e5f76",
    "outputId": "a073539c-4a47-4941-b85b-d6d9756bbfdc"
   },
   "outputs": [
    {
     "data": {
      "text/plain": [
       "((8101, 9), (3472, 9), (8101,), (3472,))"
      ]
     },
     "execution_count": 42,
     "metadata": {},
     "output_type": "execute_result"
    }
   ],
   "source": [
    "x_train.shape,x_test.shape,y_train.shape,y_test.shape"
   ]
  },
  {
   "cell_type": "code",
   "execution_count": 43,
   "id": "53a8d7c9",
   "metadata": {
    "id": "53a8d7c9"
   },
   "outputs": [],
   "source": [
    "#first useing randomoversampler\n",
    "from imblearn.over_sampling import RandomOverSampler"
   ]
  },
  {
   "cell_type": "code",
   "execution_count": 44,
   "id": "e891aefe",
   "metadata": {
    "colab": {
     "base_uri": "https://localhost:8080/"
    },
    "id": "e891aefe",
    "outputId": "0f905ec7-bafd-40fc-fe97-8490d0b9b64e"
   },
   "outputs": [
    {
     "data": {
      "text/plain": [
       "((8101, 9), (8101,))"
      ]
     },
     "execution_count": 44,
     "metadata": {},
     "output_type": "execute_result"
    }
   ],
   "source": [
    "x_train.shape,y_train.shape"
   ]
  },
  {
   "cell_type": "code",
   "execution_count": 45,
   "id": "613bb88e",
   "metadata": {},
   "outputs": [
    {
     "data": {
      "text/html": [
       "<div>\n",
       "<style scoped>\n",
       "    .dataframe tbody tr th:only-of-type {\n",
       "        vertical-align: middle;\n",
       "    }\n",
       "\n",
       "    .dataframe tbody tr th {\n",
       "        vertical-align: top;\n",
       "    }\n",
       "\n",
       "    .dataframe thead th {\n",
       "        text-align: right;\n",
       "    }\n",
       "</style>\n",
       "<table border=\"1\" class=\"dataframe\">\n",
       "  <thead>\n",
       "    <tr style=\"text-align: right;\">\n",
       "      <th></th>\n",
       "      <th>satisfaction_level</th>\n",
       "      <th>last_evaluation</th>\n",
       "      <th>number_project</th>\n",
       "      <th>average_montly_hours</th>\n",
       "      <th>time_spend_company</th>\n",
       "      <th>Work_accident</th>\n",
       "      <th>promotion_last_5years</th>\n",
       "      <th>department</th>\n",
       "      <th>salary</th>\n",
       "    </tr>\n",
       "  </thead>\n",
       "  <tbody>\n",
       "    <tr>\n",
       "      <th>283</th>\n",
       "      <td>0.10</td>\n",
       "      <td>0.93</td>\n",
       "      <td>6</td>\n",
       "      <td>289</td>\n",
       "      <td>4</td>\n",
       "      <td>1</td>\n",
       "      <td>0.0</td>\n",
       "      <td>8</td>\n",
       "      <td>1</td>\n",
       "    </tr>\n",
       "    <tr>\n",
       "      <th>4443</th>\n",
       "      <td>0.62</td>\n",
       "      <td>0.57</td>\n",
       "      <td>3</td>\n",
       "      <td>174</td>\n",
       "      <td>2</td>\n",
       "      <td>0</td>\n",
       "      <td>0.0</td>\n",
       "      <td>7</td>\n",
       "      <td>1</td>\n",
       "    </tr>\n",
       "    <tr>\n",
       "      <th>8437</th>\n",
       "      <td>0.60</td>\n",
       "      <td>0.40</td>\n",
       "      <td>3</td>\n",
       "      <td>146</td>\n",
       "      <td>4</td>\n",
       "      <td>1</td>\n",
       "      <td>0.0</td>\n",
       "      <td>9</td>\n",
       "      <td>1</td>\n",
       "    </tr>\n",
       "    <tr>\n",
       "      <th>8035</th>\n",
       "      <td>0.75</td>\n",
       "      <td>0.71</td>\n",
       "      <td>4</td>\n",
       "      <td>205</td>\n",
       "      <td>3</td>\n",
       "      <td>0</td>\n",
       "      <td>0.0</td>\n",
       "      <td>7</td>\n",
       "      <td>2</td>\n",
       "    </tr>\n",
       "    <tr>\n",
       "      <th>10640</th>\n",
       "      <td>0.85</td>\n",
       "      <td>0.66</td>\n",
       "      <td>4</td>\n",
       "      <td>155</td>\n",
       "      <td>4</td>\n",
       "      <td>0</td>\n",
       "      <td>0.0</td>\n",
       "      <td>3</td>\n",
       "      <td>0</td>\n",
       "    </tr>\n",
       "    <tr>\n",
       "      <th>...</th>\n",
       "      <td>...</td>\n",
       "      <td>...</td>\n",
       "      <td>...</td>\n",
       "      <td>...</td>\n",
       "      <td>...</td>\n",
       "      <td>...</td>\n",
       "      <td>...</td>\n",
       "      <td>...</td>\n",
       "      <td>...</td>\n",
       "    </tr>\n",
       "    <tr>\n",
       "      <th>7822</th>\n",
       "      <td>0.69</td>\n",
       "      <td>0.76</td>\n",
       "      <td>3</td>\n",
       "      <td>153</td>\n",
       "      <td>3</td>\n",
       "      <td>0</td>\n",
       "      <td>0.0</td>\n",
       "      <td>9</td>\n",
       "      <td>2</td>\n",
       "    </tr>\n",
       "    <tr>\n",
       "      <th>10964</th>\n",
       "      <td>0.52</td>\n",
       "      <td>0.43</td>\n",
       "      <td>3</td>\n",
       "      <td>176</td>\n",
       "      <td>3</td>\n",
       "      <td>0</td>\n",
       "      <td>0.0</td>\n",
       "      <td>8</td>\n",
       "      <td>1</td>\n",
       "    </tr>\n",
       "    <tr>\n",
       "      <th>907</th>\n",
       "      <td>0.09</td>\n",
       "      <td>0.86</td>\n",
       "      <td>6</td>\n",
       "      <td>291</td>\n",
       "      <td>4</td>\n",
       "      <td>0</td>\n",
       "      <td>0.0</td>\n",
       "      <td>6</td>\n",
       "      <td>1</td>\n",
       "    </tr>\n",
       "    <tr>\n",
       "      <th>5201</th>\n",
       "      <td>0.36</td>\n",
       "      <td>0.73</td>\n",
       "      <td>3</td>\n",
       "      <td>187</td>\n",
       "      <td>3</td>\n",
       "      <td>0</td>\n",
       "      <td>0.0</td>\n",
       "      <td>7</td>\n",
       "      <td>2</td>\n",
       "    </tr>\n",
       "    <tr>\n",
       "      <th>235</th>\n",
       "      <td>0.83</td>\n",
       "      <td>0.85</td>\n",
       "      <td>4</td>\n",
       "      <td>255</td>\n",
       "      <td>5</td>\n",
       "      <td>0</td>\n",
       "      <td>0.0</td>\n",
       "      <td>4</td>\n",
       "      <td>1</td>\n",
       "    </tr>\n",
       "  </tbody>\n",
       "</table>\n",
       "<p>8101 rows × 9 columns</p>\n",
       "</div>"
      ],
      "text/plain": [
       "       satisfaction_level  last_evaluation  number_project  \\\n",
       "283                  0.10             0.93               6   \n",
       "4443                 0.62             0.57               3   \n",
       "8437                 0.60             0.40               3   \n",
       "8035                 0.75             0.71               4   \n",
       "10640                0.85             0.66               4   \n",
       "...                   ...              ...             ...   \n",
       "7822                 0.69             0.76               3   \n",
       "10964                0.52             0.43               3   \n",
       "907                  0.09             0.86               6   \n",
       "5201                 0.36             0.73               3   \n",
       "235                  0.83             0.85               4   \n",
       "\n",
       "       average_montly_hours  time_spend_company  Work_accident  \\\n",
       "283                     289                   4              1   \n",
       "4443                    174                   2              0   \n",
       "8437                    146                   4              1   \n",
       "8035                    205                   3              0   \n",
       "10640                   155                   4              0   \n",
       "...                     ...                 ...            ...   \n",
       "7822                    153                   3              0   \n",
       "10964                   176                   3              0   \n",
       "907                     291                   4              0   \n",
       "5201                    187                   3              0   \n",
       "235                     255                   5              0   \n",
       "\n",
       "       promotion_last_5years  department  salary  \n",
       "283                      0.0           8       1  \n",
       "4443                     0.0           7       1  \n",
       "8437                     0.0           9       1  \n",
       "8035                     0.0           7       2  \n",
       "10640                    0.0           3       0  \n",
       "...                      ...         ...     ...  \n",
       "7822                     0.0           9       2  \n",
       "10964                    0.0           8       1  \n",
       "907                      0.0           6       1  \n",
       "5201                     0.0           7       2  \n",
       "235                      0.0           4       1  \n",
       "\n",
       "[8101 rows x 9 columns]"
      ]
     },
     "execution_count": 45,
     "metadata": {},
     "output_type": "execute_result"
    }
   ],
   "source": [
    "x_train"
   ]
  },
  {
   "cell_type": "code",
   "execution_count": 46,
   "id": "f9ae0e89",
   "metadata": {
    "id": "f9ae0e89"
   },
   "outputs": [],
   "source": [
    "#from sklearn.preprocessing import StandardScaler\n",
    "#creating object for StandardScaler class\n",
    "from sklearn.preprocessing import StandardScaler\n",
    "ss=StandardScaler()\n",
    "x_train=ss.fit_transform(x_train)\n",
    "x_test=ss.transform(x_test)"
   ]
  },
  {
   "cell_type": "code",
   "execution_count": 47,
   "id": "cc32f8cc",
   "metadata": {},
   "outputs": [
    {
     "data": {
      "text/plain": [
       "array([[-2.18609134,  1.26212657,  1.90040627, ..., -0.12416681,\n",
       "         0.72460002, -0.57863891],\n",
       "       [-0.03122936, -0.8648485 , -0.68282398, ..., -0.12416681,\n",
       "         0.38124574, -0.57863891],\n",
       "       [-0.11410867, -1.8692534 , -0.68282398, ..., -0.12416681,\n",
       "         1.06795429, -0.57863891],\n",
       "       ...,\n",
       "       [-2.22753099,  0.84854808,  1.90040627, ..., -0.12416681,\n",
       "         0.03789146, -0.57863891],\n",
       "       [-1.10866035,  0.08047375, -0.68282398, ..., -0.12416681,\n",
       "         0.38124574,  1.02668774],\n",
       "       [ 0.83900336,  0.78946544,  0.17825277, ..., -0.12416681,\n",
       "        -0.6488171 , -0.57863891]])"
      ]
     },
     "execution_count": 47,
     "metadata": {},
     "output_type": "execute_result"
    }
   ],
   "source": [
    "x_train"
   ]
  },
  {
   "cell_type": "code",
   "execution_count": 48,
   "id": "6uRJ3QwhB2OP",
   "metadata": {
    "id": "6uRJ3QwhB2OP"
   },
   "outputs": [],
   "source": [
    "#to convert minority class into majority class\n",
    "#use RandomOverSampler\n",
    "ros=RandomOverSampler(random_state=1)"
   ]
  },
  {
   "cell_type": "code",
   "execution_count": 49,
   "id": "aoQlKztkB6Lt",
   "metadata": {
    "id": "aoQlKztkB6Lt"
   },
   "outputs": [],
   "source": [
    "#apply oversampler on training data\n",
    "x_trainros,y_trainros=ros.fit_resample(x_train,y_train)"
   ]
  },
  {
   "cell_type": "code",
   "execution_count": 50,
   "id": "UD4zjI9xB8Gl",
   "metadata": {
    "colab": {
     "base_uri": "https://localhost:8080/"
    },
    "id": "UD4zjI9xB8Gl",
    "outputId": "ec8e71c7-c4af-4f34-babe-efca47196028"
   },
   "outputs": [
    {
     "data": {
      "text/plain": [
       "quit\n",
       "1    6738\n",
       "0    6738\n",
       "Name: count, dtype: int64"
      ]
     },
     "execution_count": 50,
     "metadata": {},
     "output_type": "execute_result"
    }
   ],
   "source": [
    "y_trainros.value_counts()"
   ]
  },
  {
   "cell_type": "code",
   "execution_count": 51,
   "id": "yfoMfyi2B_Br",
   "metadata": {
    "colab": {
     "base_uri": "https://localhost:8080/"
    },
    "id": "yfoMfyi2B_Br",
    "outputId": "78e36f76-7493-44af-c480-173175453457"
   },
   "outputs": [
    {
     "data": {
      "text/plain": [
       "((13476, 9), (13476,))"
      ]
     },
     "execution_count": 51,
     "metadata": {},
     "output_type": "execute_result"
    }
   ],
   "source": [
    "x_trainros.shape,y_trainros.shape"
   ]
  },
  {
   "cell_type": "code",
   "execution_count": 52,
   "id": "rvWuz9lEDODU",
   "metadata": {
    "id": "rvWuz9lEDODU"
   },
   "outputs": [],
   "source": [
    "#also apply oversampler on testing data\n",
    "x_testros,y_testros=ros.fit_resample(x_test,y_test)"
   ]
  },
  {
   "cell_type": "code",
   "execution_count": 53,
   "id": "YJXlJCD-DvJt",
   "metadata": {
    "id": "YJXlJCD-DvJt"
   },
   "outputs": [],
   "source": [
    "#applying logistic algorithm"
   ]
  },
  {
   "cell_type": "code",
   "execution_count": 54,
   "id": "KWgPkxEfCDNm",
   "metadata": {
    "id": "KWgPkxEfCDNm"
   },
   "outputs": [],
   "source": [
    "#import LogisticRagresion\n",
    "from sklearn.linear_model import LogisticRegression\n",
    "lor=LogisticRegression()"
   ]
  },
  {
   "cell_type": "code",
   "execution_count": 55,
   "id": "Z0TwDpbMCVds",
   "metadata": {
    "colab": {
     "base_uri": "https://localhost:8080/"
    },
    "id": "Z0TwDpbMCVds",
    "outputId": "e968371b-1fb4-413c-a241-47f228b7efd4"
   },
   "outputs": [
    {
     "name": "stdout",
     "output_type": "stream",
     "text": [
      "              precision    recall  f1-score   support\n",
      "\n",
      "           0       0.79      0.78      0.78      2844\n",
      "           1       0.78      0.79      0.79      2844\n",
      "\n",
      "    accuracy                           0.78      5688\n",
      "   macro avg       0.78      0.78      0.78      5688\n",
      "weighted avg       0.78      0.78      0.78      5688\n",
      "\n",
      "[[2213  631]\n",
      " [ 596 2248]]\n"
     ]
    }
   ],
   "source": [
    "#create function\n",
    "def create_model(model):\n",
    "    #train the model with70% data\n",
    "    model.fit(x_trainros,y_trainros)\n",
    "    # test the model with 30% data\n",
    "    y_pred=model.predict(x_testros)\n",
    "    #genrate thye report\n",
    "    print(classification_report(y_testros,y_pred))\n",
    "    print(confusion_matrix(y_testros,y_pred))\n",
    "    return model\n",
    "\n",
    "#import libraries\n",
    "from sklearn.metrics import classification_report,confusion_matrix\n",
    "\n",
    "#call the function\n",
    "lor=create_model(lor)"
   ]
  },
  {
   "cell_type": "code",
   "execution_count": 56,
   "id": "5rZXPTZWC0_2",
   "metadata": {
    "id": "5rZXPTZWC0_2"
   },
   "outputs": [],
   "source": [
    "#apply decision tree aglorithm for gini index\n",
    "#perform DecisionTreeClassifier\n",
    "from sklearn.tree import DecisionTreeClassifier\n",
    "#to create an object\n",
    "dt=DecisionTreeClassifier(random_state=1) #by default gini index method\n"
   ]
  },
  {
   "cell_type": "code",
   "execution_count": 57,
   "id": "geJhQcRjEAnk",
   "metadata": {
    "colab": {
     "base_uri": "https://localhost:8080/"
    },
    "id": "geJhQcRjEAnk",
    "outputId": "a9e60cf2-d329-4cf2-c0b1-d887fbabc878"
   },
   "outputs": [
    {
     "name": "stdout",
     "output_type": "stream",
     "text": [
      "              precision    recall  f1-score   support\n",
      "\n",
      "           0       0.93      0.98      0.95      2844\n",
      "           1       0.98      0.92      0.95      2844\n",
      "\n",
      "    accuracy                           0.95      5688\n",
      "   macro avg       0.95      0.95      0.95      5688\n",
      "weighted avg       0.95      0.95      0.95      5688\n",
      "\n",
      "[[2784   60]\n",
      " [ 216 2628]]\n"
     ]
    }
   ],
   "source": [
    "#call the function \n",
    "dt=create_model(dt)"
   ]
  },
  {
   "cell_type": "code",
   "execution_count": 58,
   "id": "tryzFPGMEDY2",
   "metadata": {
    "colab": {
     "base_uri": "https://localhost:8080/"
    },
    "id": "tryzFPGMEDY2",
    "outputId": "6afa82c0-2e45-40dc-cfef-348c58d679af"
   },
   "outputs": [
    {
     "data": {
      "text/plain": [
       "array([0.43820738, 0.10394971, 0.03588649, 0.06751939, 0.3360422 ,\n",
       "       0.00158612, 0.        , 0.01583505, 0.00097367])"
      ]
     },
     "execution_count": 58,
     "metadata": {},
     "output_type": "execute_result"
    }
   ],
   "source": [
    "#to see imp features ,menas IG of each input \n",
    "dt.feature_importances_"
   ]
  },
  {
   "cell_type": "code",
   "execution_count": 59,
   "id": "lExkIT44EHZ6",
   "metadata": {
    "colab": {
     "base_uri": "https://localhost:8080/",
     "height": 237
    },
    "id": "lExkIT44EHZ6",
    "outputId": "5dbfbade-f894-4f33-d8d4-d3626fa6c575"
   },
   "outputs": [
    {
     "data": {
      "text/html": [
       "<div>\n",
       "<style scoped>\n",
       "    .dataframe tbody tr th:only-of-type {\n",
       "        vertical-align: middle;\n",
       "    }\n",
       "\n",
       "    .dataframe tbody tr th {\n",
       "        vertical-align: top;\n",
       "    }\n",
       "\n",
       "    .dataframe thead th {\n",
       "        text-align: right;\n",
       "    }\n",
       "</style>\n",
       "<table border=\"1\" class=\"dataframe\">\n",
       "  <thead>\n",
       "    <tr style=\"text-align: right;\">\n",
       "      <th></th>\n",
       "      <th>Input</th>\n",
       "      <th>IG</th>\n",
       "    </tr>\n",
       "  </thead>\n",
       "  <tbody>\n",
       "    <tr>\n",
       "      <th>0</th>\n",
       "      <td>satisfaction_level</td>\n",
       "      <td>0.438207</td>\n",
       "    </tr>\n",
       "    <tr>\n",
       "      <th>1</th>\n",
       "      <td>last_evaluation</td>\n",
       "      <td>0.103950</td>\n",
       "    </tr>\n",
       "    <tr>\n",
       "      <th>2</th>\n",
       "      <td>number_project</td>\n",
       "      <td>0.035886</td>\n",
       "    </tr>\n",
       "    <tr>\n",
       "      <th>3</th>\n",
       "      <td>average_montly_hours</td>\n",
       "      <td>0.067519</td>\n",
       "    </tr>\n",
       "    <tr>\n",
       "      <th>4</th>\n",
       "      <td>time_spend_company</td>\n",
       "      <td>0.336042</td>\n",
       "    </tr>\n",
       "    <tr>\n",
       "      <th>5</th>\n",
       "      <td>Work_accident</td>\n",
       "      <td>0.001586</td>\n",
       "    </tr>\n",
       "    <tr>\n",
       "      <th>6</th>\n",
       "      <td>promotion_last_5years</td>\n",
       "      <td>0.000000</td>\n",
       "    </tr>\n",
       "    <tr>\n",
       "      <th>7</th>\n",
       "      <td>department</td>\n",
       "      <td>0.015835</td>\n",
       "    </tr>\n",
       "    <tr>\n",
       "      <th>8</th>\n",
       "      <td>salary</td>\n",
       "      <td>0.000974</td>\n",
       "    </tr>\n",
       "  </tbody>\n",
       "</table>\n",
       "</div>"
      ],
      "text/plain": [
       "                   Input        IG\n",
       "0     satisfaction_level  0.438207\n",
       "1        last_evaluation  0.103950\n",
       "2         number_project  0.035886\n",
       "3   average_montly_hours  0.067519\n",
       "4     time_spend_company  0.336042\n",
       "5          Work_accident  0.001586\n",
       "6  promotion_last_5years  0.000000\n",
       "7             department  0.015835\n",
       "8                 salary  0.000974"
      ]
     },
     "execution_count": 59,
     "metadata": {},
     "output_type": "execute_result"
    }
   ],
   "source": [
    "dict={'Input':x.columns,'IG':dt.feature_importances_}\n",
    "df1=pd.DataFrame(dict)\n",
    "df1"
   ]
  },
  {
   "cell_type": "code",
   "execution_count": 60,
   "id": "rx7WJu0uELUV",
   "metadata": {
    "colab": {
     "base_uri": "https://localhost:8080/",
     "height": 237
    },
    "id": "rx7WJu0uELUV",
    "outputId": "8eec8f7f-8830-4ff1-ec5c-16d76361cd8a"
   },
   "outputs": [
    {
     "data": {
      "text/html": [
       "<div>\n",
       "<style scoped>\n",
       "    .dataframe tbody tr th:only-of-type {\n",
       "        vertical-align: middle;\n",
       "    }\n",
       "\n",
       "    .dataframe tbody tr th {\n",
       "        vertical-align: top;\n",
       "    }\n",
       "\n",
       "    .dataframe thead th {\n",
       "        text-align: right;\n",
       "    }\n",
       "</style>\n",
       "<table border=\"1\" class=\"dataframe\">\n",
       "  <thead>\n",
       "    <tr style=\"text-align: right;\">\n",
       "      <th></th>\n",
       "      <th>Input</th>\n",
       "      <th>IG</th>\n",
       "    </tr>\n",
       "  </thead>\n",
       "  <tbody>\n",
       "    <tr>\n",
       "      <th>0</th>\n",
       "      <td>satisfaction_level</td>\n",
       "      <td>0.438207</td>\n",
       "    </tr>\n",
       "    <tr>\n",
       "      <th>1</th>\n",
       "      <td>time_spend_company</td>\n",
       "      <td>0.336042</td>\n",
       "    </tr>\n",
       "    <tr>\n",
       "      <th>2</th>\n",
       "      <td>last_evaluation</td>\n",
       "      <td>0.103950</td>\n",
       "    </tr>\n",
       "    <tr>\n",
       "      <th>3</th>\n",
       "      <td>average_montly_hours</td>\n",
       "      <td>0.067519</td>\n",
       "    </tr>\n",
       "    <tr>\n",
       "      <th>4</th>\n",
       "      <td>number_project</td>\n",
       "      <td>0.035886</td>\n",
       "    </tr>\n",
       "    <tr>\n",
       "      <th>5</th>\n",
       "      <td>department</td>\n",
       "      <td>0.015835</td>\n",
       "    </tr>\n",
       "    <tr>\n",
       "      <th>6</th>\n",
       "      <td>Work_accident</td>\n",
       "      <td>0.001586</td>\n",
       "    </tr>\n",
       "    <tr>\n",
       "      <th>7</th>\n",
       "      <td>salary</td>\n",
       "      <td>0.000974</td>\n",
       "    </tr>\n",
       "    <tr>\n",
       "      <th>8</th>\n",
       "      <td>promotion_last_5years</td>\n",
       "      <td>0.000000</td>\n",
       "    </tr>\n",
       "  </tbody>\n",
       "</table>\n",
       "</div>"
      ],
      "text/plain": [
       "                   Input        IG\n",
       "0     satisfaction_level  0.438207\n",
       "1     time_spend_company  0.336042\n",
       "2        last_evaluation  0.103950\n",
       "3   average_montly_hours  0.067519\n",
       "4         number_project  0.035886\n",
       "5             department  0.015835\n",
       "6          Work_accident  0.001586\n",
       "7                 salary  0.000974\n",
       "8  promotion_last_5years  0.000000"
      ]
     },
     "execution_count": 60,
     "metadata": {},
     "output_type": "execute_result"
    }
   ],
   "source": [
    "#to arrange records in desc -> highest to lowest \n",
    "df9=df1.sort_values('IG',ascending=False,ignore_index=True)\n",
    "df9"
   ]
  },
  {
   "cell_type": "code",
   "execution_count": 61,
   "id": "sJog5QGCEP08",
   "metadata": {
    "id": "sJog5QGCEP08"
   },
   "outputs": [],
   "source": [
    "#1. max_depth parameter "
   ]
  },
  {
   "cell_type": "code",
   "execution_count": 62,
   "id": "ofKoXDVBEXnZ",
   "metadata": {
    "colab": {
     "base_uri": "https://localhost:8080/"
    },
    "id": "ofKoXDVBEXnZ",
    "outputId": "e61ecde0-c6b0-4150-b620-856dba462ba1"
   },
   "outputs": [
    {
     "name": "stdout",
     "output_type": "stream",
     "text": [
      "              precision    recall  f1-score   support\n",
      "\n",
      "           0       0.94      0.92      0.93      2844\n",
      "           1       0.92      0.94      0.93      2844\n",
      "\n",
      "    accuracy                           0.93      5688\n",
      "   macro avg       0.93      0.93      0.93      5688\n",
      "weighted avg       0.93      0.93      0.93      5688\n",
      "\n",
      "[[2626  218]\n",
      " [ 169 2675]]\n"
     ]
    }
   ],
   "source": [
    "#apply pruning technique for DTC using entropy\n",
    "#max_depth<=8\n",
    "'''\n",
    "for i in range(1,9):\n",
    "    dt=DecisionTreeClassifier(random_state=1,max_depth=i)\n",
    "    print(\"max_depth0:\",i)\n",
    "    #call the function\n",
    "    dt=create_model(dt)\n",
    "'''\n",
    "dt1=DecisionTreeClassifier(random_state=1,max_depth=4)\n",
    "# call function\n",
    "dt1=create_model(dt1)\n",
    "\n"
   ]
  },
  {
   "cell_type": "code",
   "execution_count": 63,
   "id": "ghmINcEnFEn2",
   "metadata": {
    "colab": {
     "base_uri": "https://localhost:8080/"
    },
    "id": "ghmINcEnFEn2",
    "outputId": "ee3e15b8-570f-4be5-a833-a5eaf1414c2e"
   },
   "outputs": [
    {
     "name": "stdout",
     "output_type": "stream",
     "text": [
      "              precision    recall  f1-score   support\n",
      "\n",
      "           0       0.93      0.98      0.95      2844\n",
      "           1       0.97      0.93      0.95      2844\n",
      "\n",
      "    accuracy                           0.95      5688\n",
      "   macro avg       0.95      0.95      0.95      5688\n",
      "weighted avg       0.95      0.95      0.95      5688\n",
      "\n",
      "[[2776   68]\n",
      " [ 205 2639]]\n"
     ]
    }
   ],
   "source": [
    "#2. min_samples\n",
    "#create object of DecisionTreeClassifier class and pass the arguments\n",
    "'''\n",
    "for i in range(45,101):\n",
    "    dt2=DecisionTreeClassifier(random_state=1,min_samples_leaf=i)\n",
    "    print(\"min samples leaf:\",i)\n",
    "    #call the function \n",
    "    dt2=create_model(dt2)\n",
    "'''\n",
    "dt2=DecisionTreeClassifier(random_state=1,min_samples_leaf=45)\n",
    "#call the function \n",
    "dt2=create_model(dt2)\n"
   ]
  },
  {
   "cell_type": "code",
   "execution_count": 64,
   "id": "5Gi7HWmzHIni",
   "metadata": {
    "id": "5Gi7HWmzHIni"
   },
   "outputs": [],
   "source": [
    "#conclusion : \n",
    "#Decision Tree Classifier with GINI Index : Recall 0.92  and Accuracy 0.95\n",
    "#applied Pruning Tech : 1. max_depth with GINI INDEX then got \n",
    "# Recall: 0.94   and Accuracy: 0.93  and max_depth=4\n",
    "#but applied pruning tech. 2. min_samples_leaf with GINI INDEX then got \n",
    "#Recall 0.93  and Accuracy 0.95  and min_samples_leaf=45"
   ]
  },
  {
   "cell_type": "code",
   "execution_count": 65,
   "id": "a9XjwSqIFq3n",
   "metadata": {
    "colab": {
     "base_uri": "https://localhost:8080/",
     "height": 54
    },
    "id": "a9XjwSqIFq3n",
    "outputId": "fc3bda8c-688e-4932-affc-017e9c73f63e"
   },
   "outputs": [
    {
     "data": {
      "text/plain": [
       "'\\nfrom sklearn import tree\\n\\n# Tree hamesha inputs/features pe banega, so inputs are in columns\\nfeatures=x.columns\\nplt.figure(figsize=(10,10))\\n_=tree.plot_tree(dt2,feature_names=features,filled=True)\\n'"
      ]
     },
     "execution_count": 65,
     "metadata": {},
     "output_type": "execute_result"
    }
   ],
   "source": [
    "# create a tree again\n",
    "'''\n",
    "from sklearn import tree\n",
    "features=x.columns\n",
    "plt.figure(figsize=(10,10))\n",
    "_=tree.plot_tree(dt2,feature_names=features,filled=True)\n",
    "'''"
   ]
  },
  {
   "cell_type": "code",
   "execution_count": 66,
   "id": "9Frp-T9eHBvv",
   "metadata": {
    "colab": {
     "base_uri": "https://localhost:8080/"
    },
    "id": "9Frp-T9eHBvv",
    "outputId": "aeec319f-3588-44e2-b3ab-7a9bdb2d0143"
   },
   "outputs": [
    {
     "name": "stdout",
     "output_type": "stream",
     "text": [
      "              precision    recall  f1-score   support\n",
      "\n",
      "           0       0.93      0.98      0.95      2844\n",
      "           1       0.98      0.92      0.95      2844\n",
      "\n",
      "    accuracy                           0.95      5688\n",
      "   macro avg       0.95      0.95      0.95      5688\n",
      "weighted avg       0.95      0.95      0.95      5688\n",
      "\n",
      "[[2796   48]\n",
      " [ 225 2619]]\n"
     ]
    }
   ],
   "source": [
    "#apply decision tree aglorithm for entropy index\n",
    "#use entropy method:-p(yes)* log(p(yes))-Q(no)*log(Q(no))\n",
    "#first create object for DecisionTreeClassifier class and \n",
    "#passing the parameter criterion =\"entropy\" by deafalut criterion=\"gini index\" if didnot give\n",
    "dt=DecisionTreeClassifier(random_state=1,criterion=\"entropy\")\n",
    "#call the function \n",
    "dt=create_model(dt)"
   ]
  },
  {
   "cell_type": "code",
   "execution_count": 67,
   "id": "uRag0yDhIpwz",
   "metadata": {
    "colab": {
     "base_uri": "https://localhost:8080/"
    },
    "id": "uRag0yDhIpwz",
    "outputId": "375e613a-89d3-4c47-9a6c-8acfffed5d9c"
   },
   "outputs": [
    {
     "name": "stdout",
     "output_type": "stream",
     "text": [
      "              precision    recall  f1-score   support\n",
      "\n",
      "           0       0.93      0.99      0.96      2844\n",
      "           1       0.99      0.93      0.96      2844\n",
      "\n",
      "    accuracy                           0.96      5688\n",
      "   macro avg       0.96      0.96      0.96      5688\n",
      "weighted avg       0.96      0.96      0.96      5688\n",
      "\n",
      "[[2806   38]\n",
      " [ 202 2642]]\n"
     ]
    }
   ],
   "source": [
    "#apply pruning technique for DTC using entropy\n",
    "#max_depth<=8\n",
    "'''\n",
    "for i in range(1,9):\n",
    "    dt=DecisionTreeClassifier(random_state=1,criterion=\"entropy\",max_depth=i)\n",
    "    print(\"max_depth0:\",i)\n",
    "    #call the function\n",
    "    dt=create_model(dt)\n",
    "'''\n",
    "\n",
    "dt=DecisionTreeClassifier(random_state=1,criterion=\"entropy\",max_depth=4)\n",
    "#call the function\n",
    "dt=create_model(dt)"
   ]
  },
  {
   "cell_type": "code",
   "execution_count": 68,
   "id": "7A7B0CkbI6Bs",
   "metadata": {
    "colab": {
     "base_uri": "https://localhost:8080/"
    },
    "id": "7A7B0CkbI6Bs",
    "outputId": "577a1e1a-3426-4dff-8441-b5c3bdcdb991"
   },
   "outputs": [
    {
     "name": "stdout",
     "output_type": "stream",
     "text": [
      "              precision    recall  f1-score   support\n",
      "\n",
      "           0       0.94      0.97      0.95      2844\n",
      "           1       0.97      0.94      0.95      2844\n",
      "\n",
      "    accuracy                           0.95      5688\n",
      "   macro avg       0.95      0.95      0.95      5688\n",
      "weighted avg       0.95      0.95      0.95      5688\n",
      "\n",
      "[[2752   92]\n",
      " [ 184 2660]]\n"
     ]
    }
   ],
   "source": [
    "#apply 2nd pruning technique min_samples_leaf\n",
    "'''\n",
    "for i in range(45,101):\n",
    "    dt=DecisionTreeClassifier(random_state=1,criterion=\"entropy\",min_samples_leaf=i)\n",
    "    print(\"min_samples_leaf:\",i)\n",
    "    #call the function\n",
    "    dt=create_model(dt)\n",
    "'''\n",
    "dt=DecisionTreeClassifier(random_state=1,criterion=\"entropy\",min_samples_leaf=45)\n",
    "#call the function\n",
    "dt=create_model(dt)"
   ]
  },
  {
   "cell_type": "code",
   "execution_count": 69,
   "id": "GVwvBwcmJmls",
   "metadata": {
    "id": "GVwvBwcmJmls"
   },
   "outputs": [],
   "source": [
    "#conclusion : \n",
    "#Decision Tree Classifier with entropy Index :  Recall 0.92  and Accuracy 0.95\n",
    "#applied Pruning Tech : 1. max_depth with entropy then got \n",
    "#Recall 0.92  and Accuracy 0.96  and max_depth=4\n",
    "#but applied pruning tech. 2. min_samples_leaf with entropy then got \n",
    "#Recall 0.94  and Accuracy 0.95  and min_samples_leaf=45\n"
   ]
  },
  {
   "cell_type": "code",
   "execution_count": 70,
   "id": "87DMcZI84CzU",
   "metadata": {
    "colab": {
     "base_uri": "https://localhost:8080/"
    },
    "id": "87DMcZI84CzU",
    "outputId": "1ea17b09-2d39-42ee-e923-4ee453200b50"
   },
   "outputs": [
    {
     "data": {
      "text/plain": [
       "(11573, 9)"
      ]
     },
     "execution_count": 70,
     "metadata": {},
     "output_type": "execute_result"
    }
   ],
   "source": [
    "#checking features\n",
    "x.shape"
   ]
  },
  {
   "cell_type": "code",
   "execution_count": 71,
   "id": "evIDk7cR3xaQ",
   "metadata": {
    "colab": {
     "base_uri": "https://localhost:8080/",
     "height": 273
    },
    "id": "evIDk7cR3xaQ",
    "outputId": "6a6904f0-e4a5-4caa-fc21-c60aba9aa2b7"
   },
   "outputs": [
    {
     "name": "stdout",
     "output_type": "stream",
     "text": [
      "              precision    recall  f1-score   support\n",
      "\n",
      "           0       0.92      1.00      0.96      2844\n",
      "           1       1.00      0.92      0.96      2844\n",
      "\n",
      "    accuracy                           0.96      5688\n",
      "   macro avg       0.96      0.96      0.96      5688\n",
      "weighted avg       0.96      0.96      0.96      5688\n",
      "\n",
      "[[2831   13]\n",
      " [ 233 2611]]\n"
     ]
    },
    {
     "data": {
      "text/plain": [
       "'\\nfor i in range(6,0,-1):\\n    #create object for RandomForestClassifier class\\n    rfc=RandomForestClassifier(n_estimators=10,max_features=i,random_state=1)\\n    print(\"no of features:\",i)\\n    #call the function\\n    rfc=create_model(rfc)\\n\\n'"
      ]
     },
     "execution_count": 71,
     "metadata": {},
     "output_type": "execute_result"
    }
   ],
   "source": [
    "#ENSEMBLING TECHNIQUE: RANDOM FOREST TREE\n",
    "#call random forest tree from package use gini index\n",
    "from sklearn.ensemble import RandomForestClassifier\n",
    "#create a object of RandomForestClassifier class()\n",
    "rfc=RandomForestClassifier(n_estimators=10,max_features=3,random_state=1)\n",
    "#estimators means how many decisiontreeclassifiers min=10 ,max=100\n",
    "#max_features means take how many inputs\n",
    "#bydefalut it took GINI INDEX\n",
    "\n",
    "#call the function    \n",
    "rfc=create_model(rfc)\n",
    "\n",
    "\"\"\"\n",
    "for i in range(6,0,-1):\n",
    "    #create object for RandomForestClassifier class\n",
    "    rfc=RandomForestClassifier(n_estimators=10,max_features=i,random_state=1)\n",
    "    print(\"no of features:\",i)\n",
    "    #call the function\n",
    "    rfc=create_model(rfc)\n",
    "\n",
    "\"\"\"\n"
   ]
  },
  {
   "cell_type": "code",
   "execution_count": 72,
   "id": "ZOvHpapZ4IU3",
   "metadata": {
    "colab": {
     "base_uri": "https://localhost:8080/"
    },
    "id": "ZOvHpapZ4IU3",
    "outputId": "031a293f-f4a3-42bc-cdc2-e56a5122e0f1"
   },
   "outputs": [
    {
     "name": "stdout",
     "output_type": "stream",
     "text": [
      "              precision    recall  f1-score   support\n",
      "\n",
      "           0       0.93      1.00      0.96      2844\n",
      "           1       1.00      0.92      0.96      2844\n",
      "\n",
      "    accuracy                           0.96      5688\n",
      "   macro avg       0.96      0.96      0.96      5688\n",
      "weighted avg       0.96      0.96      0.96      5688\n",
      "\n",
      "[[2834   10]\n",
      " [ 224 2620]]\n"
     ]
    }
   ],
   "source": [
    "# use entropy\n",
    "\"\"\"\n",
    "for i in range(6,0,-1):\n",
    "    #create object for RandomForestClassifier class\n",
    "    rfc=RandomForestClassifier(n_estimators=10,max_features=i,random_state=1,criterion=\"entropy\")\n",
    "    print(\"no of features:\",i)\n",
    "    #call the function\n",
    "    rfc=create_model(rfc)\n",
    "\"\"\"\n",
    "\n",
    "rfc=RandomForestClassifier(n_estimators=10,max_features=2,random_state=1,criterion=\"entropy\")\n",
    "#call the function\n",
    "rfc=create_model(rfc)"
   ]
  },
  {
   "cell_type": "code",
   "execution_count": 73,
   "id": "JyfevlNH5Ryz",
   "metadata": {
    "id": "JyfevlNH5Ryz"
   },
   "outputs": [],
   "source": [
    "#random forest  with gini Index :   Recall 0.92  and Accuracy 0.96 fe=3\n",
    "# random forest with entropy Index :   Recall 0.92  and Accuracy 0.96 fe=2\n",
    "#best method randomforesttree(entropy):features=2 (96%) "
   ]
  },
  {
   "cell_type": "code",
   "execution_count": 74,
   "id": "3xsaOiri6N5S",
   "metadata": {
    "id": "3xsaOiri6N5S"
   },
   "outputs": [],
   "source": [
    "#USE BOOSTING TECHNIQUE:\n",
    "#apply ADA bost on given dataset\n",
    "from sklearn.ensemble import AdaBoostClassifier"
   ]
  },
  {
   "cell_type": "code",
   "execution_count": 75,
   "id": "CY3xO7jq6UHw",
   "metadata": {
    "colab": {
     "base_uri": "https://localhost:8080/",
     "height": 273
    },
    "id": "CY3xO7jq6UHw",
    "outputId": "78c70371-1592-4217-d6cd-120599bc0ff8"
   },
   "outputs": [
    {
     "name": "stdout",
     "output_type": "stream",
     "text": [
      "              precision    recall  f1-score   support\n",
      "\n",
      "           0       0.94      0.87      0.90      2844\n",
      "           1       0.88      0.95      0.91      2844\n",
      "\n",
      "    accuracy                           0.91      5688\n",
      "   macro avg       0.91      0.91      0.91      5688\n",
      "weighted avg       0.91      0.91      0.91      5688\n",
      "\n",
      "[[2472  372]\n",
      " [ 152 2692]]\n"
     ]
    },
    {
     "data": {
      "text/plain": [
       "'\\nfor i in range(1,7):\\n    #create object for RandomForestClassifier class\\n    ada=AdaBoostClassifier(n_estimators=i,random_state=1)\\n    print(\"no of descision stump:\",i)\\n    #call the function\\n    ada=create_model(ada)\\n\\n'"
      ]
     },
     "execution_count": 75,
     "metadata": {},
     "output_type": "execute_result"
    }
   ],
   "source": [
    "#create the object AdaBoostClassifier class#by deafalut gini index\n",
    "ada=AdaBoostClassifier(n_estimators=5,random_state=1)\n",
    "#call the function\n",
    "ada=create_model(ada)\n",
    "#n_estimators means no. of decision stump can be <=100_estimators can be <=100\n",
    "\"\"\"\n",
    "for i in range(1,7):\n",
    "    #create object for RandomForestClassifier class\n",
    "    ada=AdaBoostClassifier(n_estimators=i,random_state=1)\n",
    "    print(\"no of descision stump:\",i)\n",
    "    #call the function\n",
    "    ada=create_model(ada)\n",
    "\n",
    "\"\"\""
   ]
  },
  {
   "cell_type": "code",
   "execution_count": 76,
   "id": "B9YMkKhS7-Be",
   "metadata": {
    "id": "B9YMkKhS7-Be"
   },
   "outputs": [],
   "source": [
    "#conclusion :#adaboosting  recall score :   1-0.95 and 0 - 0.91 on decision stump:5"
   ]
  },
  {
   "cell_type": "code",
   "execution_count": 77,
   "id": "hsrgQMXG6ZGv",
   "metadata": {
    "colab": {
     "base_uri": "https://localhost:8080/",
     "height": 273
    },
    "id": "hsrgQMXG6ZGv",
    "outputId": "4017c9ee-a4a7-4c1a-dc41-f5111e803fac"
   },
   "outputs": [
    {
     "name": "stdout",
     "output_type": "stream",
     "text": [
      "              precision    recall  f1-score   support\n",
      "\n",
      "           0       0.93      0.92      0.93      2844\n",
      "           1       0.92      0.94      0.93      2844\n",
      "\n",
      "    accuracy                           0.93      5688\n",
      "   macro avg       0.93      0.93      0.93      5688\n",
      "weighted avg       0.93      0.93      0.93      5688\n",
      "\n",
      "[[2611  233]\n",
      " [ 182 2662]]\n"
     ]
    },
    {
     "data": {
      "text/plain": [
       "'\\nfor i in range(10,101):\\n    #create object for RandomForestClassifier class\\n    gbc=GradientBoostingClassifier(n_estimators=i,random_state=1)\\n    print(\"no of descision stump:\",i)\\n    #call the function\\n    gbc=create_model(gbc)\\n'"
      ]
     },
     "execution_count": 77,
     "metadata": {},
     "output_type": "execute_result"
    }
   ],
   "source": [
    "#Gradient Boosting :\n",
    "#apply gradient Boost technuique on bank dataset\n",
    "from sklearn.ensemble import GradientBoostingClassifier\n",
    "#create the object GradientBoostClassifier class#by deafalut gini index\n",
    "gbc=GradientBoostingClassifier(n_estimators=10,random_state=1)\n",
    "#n_estimators means no. of iteration of decision stump can be <=100_estimators can be <=100\n",
    "#call the function\n",
    "gbc=create_model(gbc)\n",
    "'''\n",
    "for i in range(10,101):\n",
    "    #create object for RandomForestClassifier class\n",
    "    gbc=GradientBoostingClassifier(n_estimators=i,random_state=1)\n",
    "    print(\"no of descision stump:\",i)\n",
    "    #call the function\n",
    "    gbc=create_model(gbc)\n",
    "'''"
   ]
  },
  {
   "cell_type": "code",
   "execution_count": 78,
   "id": "22XTEODb7HG5",
   "metadata": {
    "id": "22XTEODb7HG5"
   },
   "outputs": [],
   "source": [
    "#conclusion :#gradientboosting  recall score :   1-0.94 and Accuracy 0.93 on decision stump:10"
   ]
  },
  {
   "cell_type": "code",
   "execution_count": 79,
   "id": "4fwXiSUT8YKm",
   "metadata": {
    "id": "4fwXiSUT8YKm"
   },
   "outputs": [],
   "source": [
    "#Extreme Gradient Boosting(XGB)\n",
    "#!pip install xgboost\n",
    "#call \n",
    "from xgboost import XGBClassifier"
   ]
  },
  {
   "cell_type": "code",
   "execution_count": 80,
   "id": "Rssjjycc8e_m",
   "metadata": {
    "colab": {
     "base_uri": "https://localhost:8080/",
     "height": 273
    },
    "id": "Rssjjycc8e_m",
    "outputId": "ccf64b5a-8902-483a-9528-5067df0d2b41"
   },
   "outputs": [
    {
     "name": "stdout",
     "output_type": "stream",
     "text": [
      "              precision    recall  f1-score   support\n",
      "\n",
      "           0       0.93      0.99      0.96      2844\n",
      "           1       0.99      0.92      0.95      2844\n",
      "\n",
      "    accuracy                           0.96      5688\n",
      "   macro avg       0.96      0.96      0.96      5688\n",
      "weighted avg       0.96      0.96      0.96      5688\n",
      "\n",
      "[[2811   33]\n",
      " [ 217 2627]]\n"
     ]
    },
    {
     "data": {
      "text/plain": [
       "'\\nfor i in range(10,101):\\n    #create object for RandomForestClassifier class\\n    xgc=XGBClassifier(n_estimators=i,reg_alpha=1,random_state=1)\\n    print(\"no of descision stump:\",i)\\n    #call the function\\n    xgc=create_model(xgc)\\n\\n'"
      ]
     },
     "execution_count": 80,
     "metadata": {},
     "output_type": "execute_result"
    }
   ],
   "source": [
    "#create object for XGBClassifier class\n",
    "xgc=XGBClassifier(n_estimators=10,reg_alpha=10,random_state=1)\n",
    "#automatic overftting : reg means regualrization  and alpha or lambda:\n",
    "#hyperpermater\n",
    "#n_estimators means no. of iteration of decision stump can be <=100_estimators can be <=100\n",
    "#call the function\n",
    "xgc=create_model(xgc)\n",
    "\n",
    "'''\n",
    "for i in range(10,101):\n",
    "    #create object for RandomForestClassifier class\n",
    "    xgc=XGBClassifier(n_estimators=i,reg_alpha=1,random_state=1)\n",
    "    print(\"no of descision stump:\",i)\n",
    "    #call the function\n",
    "    xgc=create_model(xgc)\n",
    "\n",
    "'''"
   ]
  },
  {
   "cell_type": "code",
   "execution_count": 81,
   "id": "9n5oYtC_8m9v",
   "metadata": {
    "id": "9n5oYtC_8m9v"
   },
   "outputs": [],
   "source": [
    "#conclusion :# extreme   recall score :   1-0.92 and 0 - 0.96 on decision stump:10"
   ]
  },
  {
   "cell_type": "code",
   "execution_count": 82,
   "id": "XGpsHOPaB-h4",
   "metadata": {
    "id": "XGpsHOPaB-h4"
   },
   "outputs": [],
   "source": [
    "#so far best one extreme XGBClassifier recall 0=0.92 and 1=0.96"
   ]
  },
  {
   "cell_type": "code",
   "execution_count": 83,
   "id": "461e91f3-b472-43d1-bf8d-86859131c37c",
   "metadata": {},
   "outputs": [],
   "source": [
    "#use SVM : support vector machine : - classification algorithm\n",
    "#1. Linear kernel function of SVM : means suppose data are linearly separatable with the help of \n",
    "#straight line \n",
    "#call class LinearSVC inbuilt class\n",
    "from sklearn.svm import LinearSVC"
   ]
  },
  {
   "cell_type": "code",
   "execution_count": 84,
   "id": "08249d62-810e-4fa4-9e5d-2af16503182a",
   "metadata": {},
   "outputs": [],
   "source": [
    "#create the object of LinearSVC class\n",
    "svc=LinearSVC(random_state=1) #hard margin"
   ]
  },
  {
   "cell_type": "code",
   "execution_count": 85,
   "id": "346f0435-24c6-4234-810f-728e5ebbb579",
   "metadata": {},
   "outputs": [
    {
     "name": "stdout",
     "output_type": "stream",
     "text": [
      "              precision    recall  f1-score   support\n",
      "\n",
      "           0       0.78      0.77      0.77      2844\n",
      "           1       0.77      0.78      0.78      2844\n",
      "\n",
      "    accuracy                           0.78      5688\n",
      "   macro avg       0.78      0.78      0.78      5688\n",
      "weighted avg       0.78      0.78      0.78      5688\n",
      "\n",
      "[[2193  651]\n",
      " [ 627 2217]]\n"
     ]
    }
   ],
   "source": [
    "#call function \n",
    "svc=create_model(svc)"
   ]
  },
  {
   "cell_type": "code",
   "execution_count": 86,
   "id": "4e01187b-f3eb-4f42-a41e-a5be49608e67",
   "metadata": {},
   "outputs": [],
   "source": [
    "#here recall is 0.78 which is good but we can more better\n",
    "#means can be possible ,model is overfit  why? because outlier can be present\n",
    "#in our dataset\n",
    "#perhaps , can be less error on training time but more error on testing time ,\n",
    "#means training error <testing error means model is overfit \n",
    "#what  do we do ,\n",
    "#add some external error during training time   means use concept soft margin\n",
    "#if create a object of LinearSVC class "
   ]
  },
  {
   "cell_type": "code",
   "execution_count": 87,
   "id": "70f90153-cbea-448d-b930-07df9fa044e9",
   "metadata": {},
   "outputs": [],
   "source": [
    "#Soft margin means to reduced overfitting situation means some error add on\n",
    "#training time \n",
    "#create object of LinearSVC class\n",
    "svc1=LinearSVC(random_state=1,C=0.9) #here C is parameter which is used to\n",
    "#add some error on training time set error 0.01"
   ]
  },
  {
   "cell_type": "code",
   "execution_count": 88,
   "id": "b5a286ac-b562-42d4-919d-d116ed2bfffa",
   "metadata": {},
   "outputs": [
    {
     "name": "stdout",
     "output_type": "stream",
     "text": [
      "              precision    recall  f1-score   support\n",
      "\n",
      "           0       0.78      0.77      0.77      2844\n",
      "           1       0.77      0.78      0.78      2844\n",
      "\n",
      "    accuracy                           0.78      5688\n",
      "   macro avg       0.78      0.78      0.78      5688\n",
      "weighted avg       0.78      0.78      0.78      5688\n",
      "\n",
      "[[2193  651]\n",
      " [ 627 2217]]\n"
     ]
    }
   ],
   "source": [
    "#call function\n",
    "svc1=create_model(svc1)"
   ]
  },
  {
   "cell_type": "code",
   "execution_count": 89,
   "id": "5c2bb843-dad2-45fc-a9cd-041c1f99b0e0",
   "metadata": {},
   "outputs": [],
   "source": [
    "#if add external error during training time , no changes in score(recall)\n",
    "#means data is non-linear\n",
    "#can be possible , dataset is not linear means dataset is non-linear  .\n",
    "#use Non-linear kernal function of SVM means 2 classes are not separatable \n",
    "#with straight line \n",
    "#There are 3 types of Kernal function of SVM\n",
    "#1. Linear SVC  : use for linear data\n",
    "#2. polynomial kernal function : increase the low dimension to high dimension\n",
    "#3. radial basis kernal function\n",
    "\n",
    "#here use 2. polynomial kernal function : increase the low dimension to \n",
    "#high dimension"
   ]
  },
  {
   "cell_type": "code",
   "execution_count": 90,
   "id": "d337217c-13f4-434a-881b-d356a5d55435",
   "metadata": {},
   "outputs": [],
   "source": [
    "#2. polynomial Kernel function \n",
    "from sklearn.svm import SVC \n",
    "#SVC inbuilt class for non-linear data(poly and radial basis)"
   ]
  },
  {
   "cell_type": "code",
   "execution_count": 91,
   "id": "3c1d0274-ffa9-4704-8508-c679840128b7",
   "metadata": {},
   "outputs": [],
   "source": [
    "#create object of SVC class(for polynomial)\n",
    "poly_svc=SVC(random_state=1,kernel=\"poly\")"
   ]
  },
  {
   "cell_type": "code",
   "execution_count": 92,
   "id": "7b5e0a17-b357-4d14-b633-edfb3d3df40a",
   "metadata": {},
   "outputs": [
    {
     "name": "stdout",
     "output_type": "stream",
     "text": [
      "              precision    recall  f1-score   support\n",
      "\n",
      "           0       0.93      0.95      0.94      2844\n",
      "           1       0.95      0.93      0.94      2844\n",
      "\n",
      "    accuracy                           0.94      5688\n",
      "   macro avg       0.94      0.94      0.94      5688\n",
      "weighted avg       0.94      0.94      0.94      5688\n",
      "\n",
      "[[2714  130]\n",
      " [ 203 2641]]\n"
     ]
    }
   ],
   "source": [
    "#call function\n",
    "poly_svc=create_model(poly_svc)"
   ]
  },
  {
   "cell_type": "code",
   "execution_count": 93,
   "id": "4b2bd636-40d6-42f8-9531-d291c3ff1b25",
   "metadata": {},
   "outputs": [],
   "source": [
    "##we use 3 . non-linear : radial basis kernel function\n",
    "#create object of SVC class(for radial-basis)\n",
    "r_svc=SVC(random_state=1,kernel='rbf') #rdf means radial basis function"
   ]
  },
  {
   "cell_type": "code",
   "execution_count": 94,
   "id": "fb4bbecc-34e3-4597-9201-7e15b9ac73ea",
   "metadata": {},
   "outputs": [
    {
     "name": "stdout",
     "output_type": "stream",
     "text": [
      "              precision    recall  f1-score   support\n",
      "\n",
      "           0       0.93      0.96      0.94      2844\n",
      "           1       0.96      0.93      0.94      2844\n",
      "\n",
      "    accuracy                           0.94      5688\n",
      "   macro avg       0.94      0.94      0.94      5688\n",
      "weighted avg       0.94      0.94      0.94      5688\n",
      "\n",
      "[[2732  112]\n",
      " [ 209 2635]]\n"
     ]
    }
   ],
   "source": [
    "#call function\n",
    "r_svc=create_model(r_svc)"
   ]
  },
  {
   "cell_type": "markdown",
   "id": "4fa9d24a-671e-47d9-b477-3537a0d8e23f",
   "metadata": {},
   "source": [
    "''' Best Algorithm in employee churn dataset :\n",
    "\n",
    "Extreme Gradient Boost & RandomForestClassifier . In XGB : Accuracy 96% and recall 92% In RandomForestClassifier : Accuracy : 96% and Recall : 92%\n",
    "\n",
    " Algorithm      Name          Accuracy          Recall  \n",
    "\n",
    "\n",
    "\n",
    "'''"
   ]
  }
 ],
 "metadata": {
  "colab": {
   "provenance": []
  },
  "kernelspec": {
   "display_name": "Python 3 (ipykernel)",
   "language": "python",
   "name": "python3"
  },
  "language_info": {
   "codemirror_mode": {
    "name": "ipython",
    "version": 3
   },
   "file_extension": ".py",
   "mimetype": "text/x-python",
   "name": "python",
   "nbconvert_exporter": "python",
   "pygments_lexer": "ipython3",
   "version": "3.12.7"
  }
 },
 "nbformat": 4,
 "nbformat_minor": 5
}
